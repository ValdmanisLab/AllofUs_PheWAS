{
 "cells": [
  {
   "cell_type": "markdown",
   "metadata": {},
   "source": [
    "# Install PheWAS"
   ]
  },
  {
   "cell_type": "code",
   "execution_count": null,
   "metadata": {},
   "outputs": [],
   "source": [
    "install.packages(\"devtools\")\n",
    "devtools::install_github(\"PheWAS/PheWAS\")\n"
   ]
  },
  {
   "cell_type": "markdown",
   "metadata": {},
   "source": [
    "# Load Libraries"
   ]
  },
  {
   "cell_type": "code",
   "execution_count": null,
   "metadata": {
    "scrolled": true
   },
   "outputs": [],
   "source": [
    "library(tidyverse)  # Data wrangling packages.\n",
    "library(dplyr)\n",
    "library(parallel)\n",
    "library(PheWAS)"
   ]
  },
  {
   "cell_type": "markdown",
   "metadata": {},
   "source": [
    "# Set your Variables"
   ]
  },
  {
   "cell_type": "code",
   "execution_count": null,
   "metadata": {},
   "outputs": [],
   "source": [
    "rs_name <- 'rs199768005'\n",
    "pop_variable <- 'all'\n",
    "i <- sprintf('as Cov Sex+ 1-3 principals_comp+ age+ %s with all Diseases',pop_variable)\n",
    "print(i)"
   ]
  },
  {
   "cell_type": "markdown",
   "metadata": {},
   "source": [
    "# PheWAS analysis with covariates : Sex, Age and 1-3 PCA, cores 94"
   ]
  },
  {
   "cell_type": "code",
   "execution_count": null,
   "metadata": {
    "code_folding": [
     27
    ],
    "scrolled": false
   },
   "outputs": [],
   "source": [
    "name_of_file_in_bucket <- sprintf('data/%s_%s_Genotype_infomation.csv',pop_variable,rs_name)\n",
    "# Get the bucket name\n",
    "my_bucket <- Sys.getenv('WORKSPACE_BUCKET/data')\n",
    "#######################__________________#####################___________________###########\n",
    "# Copy the file from current workspace to the bucket\n",
    "system(paste0(\"gsutil cp \", my_bucket, \"/\", name_of_file_in_bucket, \" .\"), intern=T)\n",
    "# Load the file into a dataframe\n",
    "genotypes <- read.csv(name_of_file_in_bucket,sep=',')\n",
    "head(genotypes)\n",
    "name_of_file_in_bucket <- sprintf('data/%s_%s_Conditions.csv',pop_variable,rs_name)\n",
    "      # Get the bucket name\n",
    "      my_bucket <- Sys.getenv('WORKSPACE_BUCKET')\n",
    "      # Copy the file from current workspace to the bucket\n",
    "      system(paste0(\"gsutil cp \", my_bucket, \"/\", name_of_file_in_bucket, \" .\"), intern=T)\n",
    "      # Load the file into a dataframe\n",
    "      icd10cm_codes=read_csv(name_of_file_in_bucket ,col_types=\"ifci\")\n",
    "head(icd10cm_codes)\n",
    "phenotypes=createPhenotypes(icd10cm_codes,aggregate.fun=sum,min.code.count = 2)\n",
    "head(phenotypes)\n",
    "#######################__________________#####################___________________###########\n",
    "data=inner_join(phenotypes,genotypes)\n",
    "head(data)\n",
    "#######################__________________#####################___________________###########\n",
    "results=phewas_ext(data,phenotypes=names(phenotypes)[-1],genotypes=c(rs_name),covariates=c(\"sex\",'age','principal_component_1','principal_component_2','principal_component_3'), cores=94)\n",
    "results_d=addPhecodeInfo(results)\n",
    "#List the significant results\n",
    "sig_results <- results_d[results_d$bonferroni&!is.na(results_d$p),]\n",
    "#######################__________________#####################___________________###########\n",
    "# if you want to save data for more analysis in python\n",
    "# # Replace df with THE NAME OF YOUR DATAFRAME\n",
    "# my_dataframe <- data\n",
    "# # Replace 'test.csv' with THE NAME of the file you're going to store in the bucket (don't delete the quotation marks)\n",
    "# destination_filename <- sprintf('data/%s_PheCodes.csv',pop_variable)\n",
    "# ########################################################################\n",
    "# ##\n",
    "# ################# DON'T CHANGE FROM HERE ###############################\n",
    "# ##\n",
    "# ########################################################################\n",
    "# # store the dataframe in current workspace\n",
    "# write_excel_csv(my_dataframe, destination_filename)\n",
    "# # Get the bucket name\n",
    "# my_bucket <- Sys.getenv('WORKSPACE_BUCKET')\n",
    "# # Copy the file from current workspace to the bucket\n",
    "# system(paste0(\"gsutil cp ./\", destination_filename, \" \", my_bucket, \"/data/\"), intern=T)\n",
    "#######################__________________#####################___________________###########\n",
    "print('Complete!!!')"
   ]
  },
  {
   "cell_type": "markdown",
   "metadata": {},
   "source": [
    "# Create Plots"
   ]
  },
  {
   "cell_type": "code",
   "execution_count": null,
   "metadata": {
    "scrolled": false
   },
   "outputs": [],
   "source": [
    "phewas_plot <- phewasManhattan(results,OR.direction = T,title=sprintf(\"PheWAS Manhattan Plot %s \",rs_name), annotate.size=5.6,point.size = 4)\n",
    "phewas_plot <- phewas_plot + theme(panel.grid.major = element_blank(), panel.grid.minor = element_blank())\n",
    "# save plot\n",
    "png(sprintf(\"./new_run/%s_%s_phewas_GQ_40_icd10_icd9_C_2_1_%s.png\",rs_name,pop_variable,i), width=1200, height=800)\n",
    "print(phewas_plot)\n",
    "dev.off()\n",
    "# show plot\n",
    "phewas_plot\n",
    "# save the files\n",
    "head(results_d)\n",
    "my_dataframe <- results\n",
    "destination_filename <- sprintf('new_run/%s_%s_phewas_GQ_40_icd10_9_C_2_results_%s.csv',rs_name,pop_variable,i)\n",
    "# store the dataframe in current workspace\n",
    "write_excel_csv(my_dataframe, destination_filename)\n",
    "# Get the bucket name\n",
    "my_bucket <- Sys.getenv('WORKSPACE_BUCKET')\n",
    "# Copy the file from current workspace to the bucket\n",
    "system(paste0(\"gsutil cp ./\", destination_filename, \" \", my_bucket, \"/data/\"), intern=T)\n",
    "my_dataframe <- results_d\n",
    "destination_filename <- sprintf('new_run/%s_%s_phewas_GQ_40_icd10_9_C_2_results_d_%s.csv',rs_name,pop_variable,i)\n",
    "# store the dataframe in current workspace\n",
    "write_excel_csv(my_dataframe, destination_filename)\n",
    "# Get the bucket name\n",
    "system(paste0(\"gsutil cp ./\", destination_filename, \" \", my_bucket, \"/data/\"), intern=T)\n",
    "system(paste0(\"gsutil cp ./\", destination_filename, \" \", my_bucket, \"/data/\"), intern=T)\n",
    "phewas_plot <- phewasManhattan(results,OR.direction = T, title=sprintf(\"PheWAS Manhattan Plot %s \",rs_name), annotate.size=4,point.size = 3)\n",
    "phewas_plot <- phewas_plot + theme(panel.grid.major = element_blank(), panel.grid.minor = element_blank())\n",
    "# save plot\n",
    "png(sprintf(\"./new_run/%s_%s_phewas_GQ_40_icd10_icd9_C_2_%s.png\",rs_name,pop_variable,i), width=1200, height=800)\n",
    "dev.off()\n",
    "print(phewas_plot)\n",
    "#######################__________________#####################___________________###########\n",
    "\n",
    "#######################__________________#####################___________________###########\n",
    "pdf(file = sprintf(\"./new_run/%s_Phewas_%s_1.pdf\", rs_name, i), width = 18, height = 14)\n",
    "\n",
    "# Step 2: Create the plot with R code\n",
    "\n",
    "options(repr.plot.res = 300) # Adjust DPI as needed\n",
    "\n",
    "# Create PheWAS Manhattan Plot\n",
    "phewas_plot <- phewasManhattan(results, \n",
    "                               OR.direction = TRUE, \n",
    "                               title = sprintf(\"PheWAS Manhattan Plot %s\", rs_name), \n",
    "                               annotate.size = 6, \n",
    "                               point.size = 5)\n",
    "\n",
    "# Adjust x-axis label size and rotation\n",
    "phewas_plot <- phewas_plot + theme(axis.text.x = element_text(size = 15, angle = 90))\n",
    "# phewas_plot <- phewas_plot + geom_hline(yintercept = 4.4, linetype = \"solid\", color = \"red\", alpha = 0.5, size = 2)\n",
    "# Remove gridlines\n",
    "phewas_plot <- phewas_plot + theme(panel.grid.major = element_blank(), \n",
    "                                   panel.grid.minor = element_blank())\n",
    "\n",
    "# Adjust y-axis limits\n",
    "phewas_plot <- phewas_plot + coord_cartesian(ylim = c(0, 5))\n",
    "\n",
    "# Step 3: Run dev.off() to create the file!\n",
    "print(phewas_plot)\n",
    "dev.off()\n",
    "#######################__________________#####################___________________###########\n",
    "\n",
    "\n"
   ]
  },
  {
   "cell_type": "code",
   "execution_count": null,
   "metadata": {},
   "outputs": [],
   "source": [
    "pdf(file = sprintf(\"./new_run/%s_Phewas_%s_2.pdf\", rs_name, i), width = 18, height = 14)\n",
    "\n",
    "# Step 2: Create the plot with R code\n",
    "\n",
    "options(repr.plot.res = 300) # Adjust DPI as needed\n",
    "\n",
    "# Create PheWAS Manhattan Plot\n",
    "phewas_plot <- phewasManhattan(results, \n",
    "                               OR.direction = TRUE, \n",
    "                               title = sprintf(\"PheWAS Manhattan Plot %s\", rs_name), \n",
    "                               annotate.size = 6, \n",
    "                               point.size = 6)\n",
    "\n",
    "# Adjust x-axis label size and rotation\n",
    "phewas_plot <- phewas_plot + theme(axis.text.x = element_text(size = 15, angle = 90))\n",
    "# phewas_plot <- phewas_plot + geom_hline(yintercept = 4.4, linetype = \"solid\", color = \"red\", alpha = 0.5, size = 2)\n",
    "\n",
    "# Remove gridlines\n",
    "phewas_plot <- phewas_plot + theme(panel.grid.major = element_blank(), \n",
    "                                   panel.grid.minor = element_blank())\n",
    "\n",
    "# Adjust y-axis limits\n",
    "phewas_plot <- phewas_plot + coord_cartesian(ylim = c(0, 6))\n",
    "\n",
    "# Step 3: Run dev.off() to create the file!\n",
    "print(phewas_plot)\n",
    "dev.off()"
   ]
  },
  {
   "cell_type": "code",
   "execution_count": null,
   "metadata": {},
   "outputs": [],
   "source": []
  }
 ],
 "metadata": {
  "kernelspec": {
   "display_name": "R",
   "language": "R",
   "name": "ir"
  },
  "language_info": {
   "codemirror_mode": "r",
   "file_extension": ".r",
   "mimetype": "text/x-r-source",
   "name": "R",
   "pygments_lexer": "r",
   "version": "4.3.1"
  },
  "toc": {
   "base_numbering": 1,
   "nav_menu": {},
   "number_sections": true,
   "sideBar": true,
   "skip_h1_title": false,
   "title_cell": "Table of Contents",
   "title_sidebar": "Contents",
   "toc_cell": false,
   "toc_position": {},
   "toc_section_display": true,
   "toc_window_display": false
  }
 },
 "nbformat": 4,
 "nbformat_minor": 2
}
